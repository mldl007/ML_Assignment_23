{
 "cells": [
  {
   "cell_type": "markdown",
   "id": "177d6ccb-6305-4c04-8790-477ef79b7476",
   "metadata": {},
   "source": [
    "<h4>1. What are the key reasons for reducing the dimensionality of a dataset? What are the major\n",
    "disadvantages?"
   ]
  },
  {
   "cell_type": "markdown",
   "id": "7b558be4-c806-42e1-83e2-5b198ac3bbcb",
   "metadata": {},
   "source": [
    "We reduce the dimensionality of data to prevent overfitting by reducing number of parameters, reduce training time and memory usage. Disadvantages of dimensionality reduction are: model explainability is lost."
   ]
  },
  {
   "cell_type": "markdown",
   "id": "d55c28a8-5e56-43b8-ae2f-ec693e3da8c4",
   "metadata": {},
   "source": [
    "<h4>2. What is the dimensionality curse?"
   ]
  },
  {
   "cell_type": "markdown",
   "id": "9d8ef8b9-a2a1-412a-a376-28904aeb122a",
   "metadata": {},
   "source": [
    "Curse of dimensionality problem arises when a dataset has many number of independent features. curse of dimensionality demands more training samples."
   ]
  },
  {
   "cell_type": "markdown",
   "id": "6586dc91-290e-469d-953a-ed795bc3fafa",
   "metadata": {},
   "source": [
    "<h4>3. Tell if its possible to reverse the process of reducing the dimensionality of a dataset? If so, how\n",
    "can you go about doing it? If not, what is the reason?"
   ]
  },
  {
   "cell_type": "markdown",
   "id": "ed81a176-eff5-4cd9-a102-43794ae98b31",
   "metadata": {},
   "source": [
    "Yes, using inverse_transform() of Scikit-Learn"
   ]
  },
  {
   "cell_type": "markdown",
   "id": "f0fa9d6c-80a4-4e38-bf1b-ce8384eedcbd",
   "metadata": {},
   "source": [
    "<h4>4. Can PCA be utilized to reduce the dimensionality of a nonlinear dataset with a lot of variables?"
   ]
  },
  {
   "cell_type": "markdown",
   "id": "1efa5bbf-3708-41d9-ab0c-6e543eb8a93e",
   "metadata": {},
   "source": [
    "Yes"
   ]
  },
  {
   "cell_type": "markdown",
   "id": "0e985472-ca23-49e6-a0d6-7fdb4a6a84de",
   "metadata": {},
   "source": [
    "<h4>5. Assume you&#39;re running PCA on a 1,000-dimensional dataset with a 95 percent explained variance\n",
    "ratio. What is the number of dimensions that the resulting dataset would have?"
   ]
  },
  {
   "cell_type": "markdown",
   "id": "777013dd-8aa6-4a1f-996b-99ecf7c3417a",
   "metadata": {},
   "source": [
    "Depends on the dataset"
   ]
  },
  {
   "cell_type": "markdown",
   "id": "54e2b74f-596b-4ff2-96d4-488b6c3b26fe",
   "metadata": {},
   "source": [
    "<h4>6. Will you use vanilla PCA, incremental PCA, randomized PCA, or kernel PCA in which situations?"
   ]
  },
  {
   "cell_type": "markdown",
   "id": "e870be92-59e4-42b8-9e27-c8e299aacee0",
   "metadata": {},
   "source": [
    "Incremental principal component analysis (IPCA) is typically used as a replacement for principal component analysis (PCA) when the dataset to be decomposed is too large to fit in memory. "
   ]
  },
  {
   "cell_type": "markdown",
   "id": "06627fab-418e-4560-b6c1-259f3823c57e",
   "metadata": {},
   "source": [
    "<h4>7. How do you assess a dimensionality reduction algorithm&#39;s success on your dataset?"
   ]
  },
  {
   "cell_type": "markdown",
   "id": "334d58f7-bb03-413f-b71e-71eb2e940e32",
   "metadata": {},
   "source": [
    "Using a cumulative explained variance ratio"
   ]
  },
  {
   "cell_type": "markdown",
   "id": "2baaf673-542e-4acd-88b4-d33a64c629c1",
   "metadata": {},
   "source": [
    "<h4>8. Is it logical to use two different dimensionality reduction algorithms in a chain?"
   ]
  },
  {
   "cell_type": "markdown",
   "id": "996ac1ea-46fc-439f-bd34-985809cdf45a",
   "metadata": {},
   "source": [
    "You may use, but it is not required as the explained variance ratio further reduces."
   ]
  },
  {
   "cell_type": "code",
   "execution_count": null,
   "id": "0b09fcb7-ee26-4e20-a271-53576d258953",
   "metadata": {},
   "outputs": [],
   "source": []
  }
 ],
 "metadata": {
  "kernelspec": {
   "display_name": "Python 3 (ipykernel)",
   "language": "python",
   "name": "python3"
  },
  "language_info": {
   "codemirror_mode": {
    "name": "ipython",
    "version": 3
   },
   "file_extension": ".py",
   "mimetype": "text/x-python",
   "name": "python",
   "nbconvert_exporter": "python",
   "pygments_lexer": "ipython3",
   "version": "3.9.13"
  }
 },
 "nbformat": 4,
 "nbformat_minor": 5
}
